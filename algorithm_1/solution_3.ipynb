{
 "cells": [
  {
   "cell_type": "markdown",
   "metadata": {},
   "source": [
    "#### Question 3: \"What is the minimum amount of prize money you will consider playing this game for? Calculate your relevant premium in this case.\""
   ]
  },
  {
   "cell_type": "markdown",
   "metadata": {},
   "source": [
    "\n",
    "1) To make the game worth playing, we need the expected value of playing to be positive. Let's call the minimum prize amount P.\n",
    "\n",
    "2) Working backwards again, like before:\n",
    "\n",
    "A) For the third toss (after getting 1,1):\n",
    "* Success (1/6): Win P\n",
    "* Failure (5/6): Lose $49,500\n",
    "\n",
    "Expected value must be positive:\n",
    "$$\\frac{1}{6}P - \\frac{5}{6}(49,500) > 0$$\n",
    "$$P/6 - 41,250 > 0$$\n",
    "$$P > 247,500$$\n",
    "\n",
    "B) For the second toss (after getting first 1):\n",
    "* Success (1/6): Get chance for third toss worth $$(P/6 - 41,250)$$\n",
    "* Failure (5/6): Lose $7,800\n",
    "\n",
    "Expected value must be positive:\n",
    "$$\\frac{1}{6}(P/6 - 41,250) - \\frac{5}{6}(7,800) > 0$$\n",
    "$$\\frac{P}{36} - 6,875 - 6,500 > 0$$\n",
    "$$\\frac{P}{36} > 13,375$$\n",
    "$$P > 481,500$$\n",
    "\n",
    "C) For the first toss:\n",
    "* Success (1/6): Get chance for second toss\n",
    "* Failure (5/6): Lose $1,000\n",
    "\n",
    "Expected value must be positive:\n",
    "$$\\frac{1}{6}(\\frac{P}{36} - 13,375) - \\frac{5}{6}(1,000) > 0$$\n",
    "$$\\frac{P}{216} - 2,229.17 - 833.33 > 0$$\n",
    "$$\\frac{P}{216} > 3,062.50$$\n",
    "$$P > 661,500$$\n",
    "\n",
    "Therefore:\n",
    "- Minimum prize needed = $661,500\n",
    "- Current prize offered = $100,000\n",
    "- Premium required = $661,500 - $100,000 = $561,500"
   ]
  },
  {
   "cell_type": "markdown",
   "metadata": {},
   "source": [
    "\n",
    "The interpretation:\n",
    "1) We need at least $661,500 as the prize to make the game worth playing\n",
    "2) Since the current prize is only $100,000, we would need an additional premium of $561,500 to make it worthwhile\n",
    "3) This premium compensates for:\n",
    "   - High failure probabilities (5/6 at each step)\n",
    "   - Severe penalties for failures ($1,000, $7,800, $49,500)\n",
    "   - Need for three consecutive successes\n",
    "\n",
    "At this prize level ($661,500):\n",
    "- The optimal strategy would be to play all three tosses\n",
    "- The expected value would be slightly above zero\n",
    "- Any prize less than this makes the game unprofitable"
   ]
  }
 ],
 "metadata": {
  "language_info": {
   "name": "python"
  }
 },
 "nbformat": 4,
 "nbformat_minor": 2
}
