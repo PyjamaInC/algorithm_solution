{
 "cells": [
  {
   "cell_type": "markdown",
   "metadata": {},
   "source": [
    "## Backward Induction\n",
    "\n",
    "I will use backward induction to find the expected values at each decision point.\n",
    "\n",
    "Let's start from the end and work backwards:\n",
    "\n",
    "1) First decision point: After getting two 1's (1,1):\n",
    "* Probability of success on third toss = 1/6\n",
    "* Probability of failure on third toss = 5/6\n",
    "\n",
    "Expected value calculation:\n",
    "* Success: $100,000 × (1/6)\n",
    "* Failure: -$49,500 × (5/6)\n",
    "\n",
    "$$EV(\\text{third toss}) = 100,000 × (1/6) + (-49,500) × (5/6)$$\n",
    "$$= 16,666.67 - 41,250$$\n",
    "$$= -24,583.33$$\n",
    "\n",
    "Decision: Since EV is negative and we can stop without penalty, we should STOP after getting two 1's.\n",
    "\n",
    "2) Second decision point: After getting one 1:\n",
    "* If we toss again:\n",
    "  - Probability of getting 1: 1/6 (but we'll stop here based on above)\n",
    "  - Probability of failure: 5/6 (costs $7,800)\n",
    "\n",
    "Expected value:\n",
    "$$EV(\\text{second toss}) = 0 × (1/6) + (-7,800) × (5/6)$$\n",
    "$$= -6,500$$\n",
    "\n",
    "Decision: Since EV is negative and we can stop without penalty, we should STOP after getting one 1.\n",
    "\n",
    "3) Initial decision point:\n",
    "* Cost of failure: $1,000\n",
    "* Probability of success: 1/6 (but we'll stop here based on above)\n",
    "* Probability of failure: 5/6\n",
    "\n",
    "Expected value:\n",
    "$$EV(\\text{first toss}) = 0 × (1/6) + (-1,000) × (5/6)$$\n",
    "$$= -833.33$$\n",
    "\n",
    "Final conclusion: The optimal strategy is to NOT PLAY AT ALL, because:\n",
    "- Every decision point has negative expected value\n",
    "- We can avoid all losses by not playing\n",
    "- The cost structure and probabilities make it impossible to have positive expected value under any strategy\n",
    "\n",
    "Therefore, the net gain/loss per toss under optimal play would be $0 (by not playing). \n",
    "\n",
    "If we were forced to play, the net loss per toss would be -$833.33 for a single toss strategy (stop whether we win or lose on first toss), as this minimizes our losses compared to continuing after successes.\n",
    "\n",
    "This explains why the problem also asks about minimum prize money needed to play (question 3) - the current prize structure makes the game unprofitable under any strategy. Would you like me to help calculate how large the prize would need to be to make the game worth playing?"
   ]
  }
 ],
 "metadata": {
  "language_info": {
   "name": "python"
  }
 },
 "nbformat": 4,
 "nbformat_minor": 2
}
