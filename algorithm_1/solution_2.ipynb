{
 "cells": [
  {
   "cell_type": "markdown",
   "metadata": {},
   "source": [
    "My intial thought when encounter this question is to draw out a decision tree with 3 levels corresponding to 3 tosses. Each branch will be equivalent to a possible realization or outcome of our population, for example (1, 1, 1), (1, non-1, 1), (non-1, 1, 1), etc. And with some condition defined in the rule of the game of this problem, i can draw out a distribution for 3-times tossing game like this. And the calculation for expected net gains/loss can be calculated by using brute force approach, or via probability theory.\n",
    "\n",
    "However, the complexity lies in the part where we can stop the game halfway. This will immediately change the distribution from 3-times tossing to 2 times, and one-time tossing distributions. Hence, I choose this backward induction approach as it seems quite intuitive to me. "
   ]
  },
  {
   "cell_type": "markdown",
   "metadata": {},
   "source": [
    "## Backward Induction\n",
    "\n",
    "I will use backward induction to find the expected values at each decision point.\n",
    "\n",
    "Let's start from the end and work backwards:\n",
    "\n",
    "1) First decision point (third toss): After getting two 1's (1,1):\n",
    "* Probability of success on third toss = $( \\frac{1}{6} )$.\n",
    "* Probability of failure on third toss = $( \\frac{5}{6} )$.\n",
    "\n",
    "Expected value calculation:\n",
    "* Success: $100,000 × (1/6)\n",
    "* Failure: -$49,500 × (5/6)\n",
    "* EV: expected value\n",
    "\n",
    "$$EV(\\text{third toss}) = 100,000 × ( \\frac{1}{6} ) + (-49,500) × ( \\frac{5}{6} )$$\n",
    "$$= 16,666.67 - 41,250$$\n",
    "$$= -24,583.33$$\n",
    "\n",
    "Decision: Since EV is negative and we can stop without penalty, we should STOP after getting two 1's.\n",
    "\n",
    "2) Second decision point (second toss): After drawing one 1:\n",
    "* If we toss again:\n",
    "  - Probability of getting 1: 1/6 (but we'll stop here based on above)\n",
    "  - Probability of failure: 5/6 (costs $7,800)\n",
    "\n",
    "Expected value:\n",
    "$$EV(\\text{second toss}) = 0 × (1/6) + (-7,800) × (5/6)$$\n",
    "$$= -6,500$$\n",
    "\n",
    "Decision: Since EV is negative and we can stop without penalty, we should STOP after getting one 1.\n",
    "\n",
    "3) Initial decision point (first toss):\n",
    "* Cost of failure: $1,000\n",
    "* Probability of success: 1/6 (but we'll stop here based on above)\n",
    "* Probability of failure: 5/6\n",
    "\n",
    "Expected value:\n",
    "$$EV(\\text{first toss}) = 0 × (1/6) + (-1,000) × (5/6)$$\n",
    "$$= -833.33$$\n",
    "\n",
    "Final conclusion: The optimal strategy is to NOT PLAY AT ALL, because:\n",
    "- Every decision point has negative expected value\n",
    "- We can avoid all losses by not playing\n",
    "- The cost structure and probabilities make it impossible to have positive expected value under any strategy\n",
    "\n",
    "Therefore, the net gain/loss per toss under optimal play would be $0 (by not playing). \n",
    "\n",
    "If we were forced to play, the net loss per toss would be -$833.33 for a single toss strategy (stop whether we win or lose on first toss), as this minimizes our losses compared to continuing after successes."
   ]
  }
 ],
 "metadata": {
  "language_info": {
   "name": "python"
  }
 },
 "nbformat": 4,
 "nbformat_minor": 2
}
