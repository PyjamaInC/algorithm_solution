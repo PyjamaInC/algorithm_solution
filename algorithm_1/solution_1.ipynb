{
 "cells": [
  {
   "cell_type": "markdown",
   "metadata": {},
   "source": [
    "\n",
    "\n",
    "### Expected Number of Attempts\n",
    "Since the chance of winning in any sequence of three rolls is \\( \\frac{1}{216} \\), the average number of three-roll sequences needed to win is the reciprocal:\n",
    "\\[\n",
    "\\text{Expected sequences to win} = 216\n",
    "\\]\n",
    "\n",
    "### Translating to Dice Tosses\n",
    "Since each sequence contains three rolls, the total expected number of rolls to win is:\n",
    "\\[\n",
    "\\text{Expected rolls} = 216 \\times 3 = 648\n",
    "\\]\n",
    "However, this is only the expected number; we need to calculate how many tosses would be required to have a 95% chance of winning.\n",
    "\n",
    "### Using a Geometric Distribution\n",
    "The probability of winning follows a geometric distribution, as each sequence of three rolls is an independent trial with a fixed probability of success \\( \\frac{1}{216} \\). We seek the number of sequences \\( n \\) that gives a cumulative probability of 95%.\n",
    "\n",
    "For a geometric distribution:\n",
    "\\[\n",
    "P(\\text{at least one win within } n \\text{ sequences}) = 1 - (1 - p)^n\n",
    "\\]\n",
    "where \\( p = \\frac{1}{216} \\).\n",
    "\n",
    "We set this equation to 0.95 and solve for \\( n \\):\n",
    "\\[\n",
    "0.95 = 1 - \\left(1 - \\frac{1}{216}\\right)^n\n",
    "\\]\n",
    "\\[\n",
    "0.05 = \\left(1 - \\frac{1}{216}\\right)^n\n",
    "\\]\n",
    "Taking the natural logarithm of both sides:\n",
    "\\[\n",
    "\\ln(0.05) = n \\cdot \\ln\\left(1 - \\frac{1}{216}\\right)\n",
    "\\]\n",
    "Solving for \\( n \\):\n",
    "\\[\n",
    "n = \\frac{\\ln(0.05)}{\\ln\\left(1 - \\frac{1}{216}\\right)}\n",
    "\\]\n",
    "Calculating this will give the number of three-roll sequences required. Then, multiply by 3 to find the total number of rolls required.\n",
    "\n",
    "I'll compute this for you.\n",
    "\n",
    "To achieve a 95% confidence level of winning, you would need approximately **1,937 total dice tosses**. This estimate accounts for the probability required to get three consecutive \"1\"s at least once within those tosses."
   ]
  },
  {
   "cell_type": "markdown",
   "metadata": {},
   "source": [
    "### Understanding the Probabilities\n",
    "**Assumption**: \n",
    "1. We are using a fair six-sided die.\n",
    "   - Probability of tossing a \"1\" on any single roll is $( \\frac{1}{6} )$.\n",
    "   - Probability of not tossing a \"1\" is $( \\frac{5}{6} )$.\n",
    "\n",
    "2. Each toss is independent of each other. \n"
   ]
  },
  {
   "cell_type": "markdown",
   "metadata": {},
   "source": [
    "### Probability of Winning in Consecutive Tosses\n",
    "\n",
    "To win, you need three consecutive rolls of \"1\". This probability for three consecutive \"1\"s in any given sequence of three rolls is:\n",
    "\n",
    "$$\\text{Probability of three \"1\"s} = \\left(\\frac{1}{6}\\right)^3 = \\frac{1}{216}$$\n",
    "\n",
    "So, for every sequence of three rolls, you have a $\\frac{1}{216}$ chance of winning."
   ]
  },
  {
   "cell_type": "markdown",
   "metadata": {},
   "source": [
    "### Expected Number of Attempts\n",
    "Since the chance of winning in any sequence of three rolls is \\( \\frac{1}{216} \\), the average number of three-roll sequences needed to win is the reciprocal:\n",
    "$$[\n",
    "\\text{Expected sequences to win} = 216\n",
    "]$$\n",
    "\n",
    "### Translating to Dice Tosses\n",
    "Since each sequence contains three rolls, the total expected number of rolls to win is:\n",
    "$$[\n",
    "\\text{Expected rolls} = 216 \\times 3 = 648\n",
    "]$$\n",
    "However, this is only the expected number; we need to calculate how many tosses would be required to have a 95% chance of winning."
   ]
  },
  {
   "cell_type": "markdown",
   "metadata": {},
   "source": [
    "### Using a Geometric Distribution\n",
    "The probability of winning follows a geometric distribution, as each sequence of three rolls is an independent trial with a fixed probability of success $( \\frac{1}{216} )$. We seek the number of sequences \\( n \\) that gives a cumulative probability of 95%.\n",
    "\n",
    "For a geometric distribution:\n",
    "$[\n",
    "P(\\text{at least one win within } n \\text{ sequences}) = 1 - (1 - p)^n\n",
    "]$\n",
    "where $( p = \\frac{1}{216} )$.\n",
    "\n",
    "We set this equation to 0.95 and solve for \\( n \\):\n",
    "\n",
    "$\n",
    "0.95 = 1 - \\left(1 - \\frac{1}{216}\\right)^n\n",
    "$\n",
    "\n",
    "$\n",
    "0.05 = \\left(1 - \\frac{1}{216}\\right)^n\n",
    "$\n",
    "\n",
    "Taking the natural logarithm of both sides:\n",
    "$\n",
    "\\ln(0.05) = n \\cdot \\ln\\left(1 - \\frac{1}{216}\\right)\n",
    "$\n",
    "\n",
    "Solving for \\( n \\):\n",
    "$\n",
    "n = \\frac{\\ln(0.05)}{\\ln\\left(1 - \\frac{1}{216}\\right)}\n",
    "$\n",
    "\n",
    "Calculating this will give the number of three-roll sequences required. Then, multiply by 3 to find the total number of rolls required.\n",
    "\n"
   ]
  },
  {
   "cell_type": "code",
   "execution_count": 1,
   "metadata": {},
   "outputs": [],
   "source": [
    "import math"
   ]
  },
  {
   "cell_type": "code",
   "execution_count": 4,
   "metadata": {},
   "outputs": [
    {
     "name": "stdout",
     "output_type": "stream",
     "text": [
      "1936.7374395201932\n"
     ]
    }
   ],
   "source": [
    "p = 1/216  # Probability of success in a single sequence\n",
    "\n",
    "# Target confidence level\n",
    "confidence_level = 0.95\n",
    "\n",
    "# Calculate n using the geometric distribution formula\n",
    "n = math.log(1 - confidence_level) / math.log(1 - p)\n",
    "\n",
    "# Calculate total rolls (since each sequence is 3 rolls)\n",
    "total_rolls = n * 3\n",
    "\n",
    "print(total_rolls)"
   ]
  },
  {
   "cell_type": "markdown",
   "metadata": {},
   "source": [
    "\n",
    "To achieve a 95% confidence level of winning, you would need approximately **1,937 total dice tosses**. This estimate accounts for the probability required to get three consecutive \"1\"s at least once within those tosses."
   ]
  }
 ],
 "metadata": {
  "kernelspec": {
   "display_name": ".venv",
   "language": "python",
   "name": "python3"
  },
  "language_info": {
   "codemirror_mode": {
    "name": "ipython",
    "version": 3
   },
   "file_extension": ".py",
   "mimetype": "text/x-python",
   "name": "python",
   "nbconvert_exporter": "python",
   "pygments_lexer": "ipython3",
   "version": "3.12.4"
  }
 },
 "nbformat": 4,
 "nbformat_minor": 2
}
