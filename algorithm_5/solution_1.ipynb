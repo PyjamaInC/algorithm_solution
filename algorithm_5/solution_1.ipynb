{
 "cells": [
  {
   "cell_type": "markdown",
   "metadata": {},
   "source": [
    "Given/Assumption:\n",
    "- Base probability of hitting the jackpot is 15%\n",
    "- We want the probability to increase after each miss\n",
    "- After 10 attempts, it should average out to 15%\n",
    "- We need 95% confidence that someone will win in 10 attempts\n",
    "\n",
    "Let's solve this methodically:\n",
    "\n",
    "1. First, the goal is to find:\n",
    "   - Initial probability (which can be used to calculate starting odds)\n",
    "   - Amount of increase in probability after each miss\n",
    "   - These values should ensure a 15% probability in average\n",
    "\n",
    "2. Set up our equations and variables:\n",
    "   - Let's say initial probability is $x$\n",
    "   - Increase per miss is $y$\n",
    "   - After 10 attempts, the probabilities would be:\n",
    "\n",
    "     1st attempt: $x$\n",
    "   \n",
    "     2nd attempt: $x + y$\n",
    "\n",
    "     3rd attempt: $x + 2y$\n",
    "     \n",
    "     And so on...\n",
    "\n",
    "3. Form the average equation:\n",
    "   $\\frac{x + (x+y) + (x+2y) + ... + (x+9y)}{10} = 0.15$\n",
    "\n",
    "4. Simplify this:\n",
    "   - We have 10 $x$ terms\n",
    "   - The $y$ terms form an arithmetic sequence: $0y + 1y + 2y + ... + 9y$\n",
    "   - Sum of first 9 numbers is $\\frac{9 \\times 10}{2} = 45$\n",
    "\n",
    "5. Therefore:\n",
    "   $10x + 45y = 1.5$\n",
    "\n",
    "6. For 95% confidence over 10 attempts, we need:\n",
    "   $1 - (1-x)(1-(x+y))(1-(x+2y))...(1-(x+9y)) \\geq 0.95$"
   ]
  },
  {
   "cell_type": "markdown",
   "metadata": {},
   "source": [
    "More intepretation:\n",
    "\n",
    "The equation $1 - (1-x)(1-(x+y))(1-(x+2y))...(1-(x+9y)) \\geq 0.95$:\n",
    "\n",
    "$(1-x)$ is probability of missing on 1st try\n",
    "\n",
    "$(1-(x+y))$ is probability of missing on 2nd try\n",
    "\n",
    "When we multiply these, we get probability of missing ALL attempts\n",
    "So 1 - (probability of missing all) = probability of winning at least once\n",
    "\n",
    "The \"95% confidence level\" in this context means:\n",
    "- If you play all 10 attempts, you should have a 95% chance of winning at least once."
   ]
  }
 ],
 "metadata": {
  "language_info": {
   "name": "python"
  }
 },
 "nbformat": 4,
 "nbformat_minor": 2
}
